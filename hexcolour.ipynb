{
 "cells": [
  {
   "cell_type": "code",
   "execution_count": null,
   "id": "cdc96b40",
   "metadata": {},
   "outputs": [
    {
     "name": "stdout",
     "output_type": "stream",
     "text": [
      "11\n",
      "#BED\n",
      "{\n",
      "11 #BED {     color: #FfFdF8; background-color:#aef;     font-size: 123px;     background: -webkit-linear-gradient(top, #f9f9f9, #fff); } #Cab {     background-color: #ABC;     border: 2px dashed #fff; }   \n",
      "}\n",
      "#cab\n",
      "{\n",
      " background-color: #ABC;\n",
      "border: 2px dashed #fff;\n",
      "}\n"
     ]
    }
   ],
   "source": [
    "import re\n",
    "p = re.compile(r'(?<!^)#[0-9A-Fa-f]{3,6}')\n",
    "for _ in range(int(input())):\n",
    "    \n",
    "    matched=p.findall(input())\n",
    "if matched:\n",
    "    print(*matched,'\\n')"
   ]
  },
  {
   "cell_type": "code",
   "execution_count": null,
   "id": "6fa2b872",
   "metadata": {},
   "outputs": [],
   "source": [
    "\n",
    "\n"
   ]
  }
 ],
 "metadata": {
  "kernelspec": {
   "display_name": "Python 3 (ipykernel)",
   "language": "python",
   "name": "python3"
  },
  "language_info": {
   "codemirror_mode": {
    "name": "ipython",
    "version": 3
   },
   "file_extension": ".py",
   "mimetype": "text/x-python",
   "name": "python",
   "nbconvert_exporter": "python",
   "pygments_lexer": "ipython3",
   "version": "3.9.12"
  }
 },
 "nbformat": 4,
 "nbformat_minor": 5
}
