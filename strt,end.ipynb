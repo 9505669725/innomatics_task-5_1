{
 "cells": [
  {
   "cell_type": "code",
   "execution_count": 1,
   "id": "b6baf71f",
   "metadata": {},
   "outputs": [
    {
     "name": "stdout",
     "output_type": "stream",
     "text": [
      "aaadaa\n",
      "aa\n",
      "(0, 1)\n",
      "(1, 2)\n",
      "(4, 5)\n"
     ]
    }
   ],
   "source": [
    "import re\n",
    "string = input()\n",
    "substring = input()\n",
    "pattern = re.compile(substring)\n",
    "match = pattern.search(string)\n",
    "if not match: print('(-1, -1)')\n",
    "while match:\n",
    "    print('({0}, {1})'.format(match.start(), match.end() - 1))\n",
    "    match = pattern.search(string, match.start() + 1)"
   ]
  },
  {
   "cell_type": "code",
   "execution_count": null,
   "id": "8c1b18d1",
   "metadata": {},
   "outputs": [],
   "source": []
  },
  {
   "cell_type": "code",
   "execution_count": null,
   "id": "4f92f7b1",
   "metadata": {},
   "outputs": [],
   "source": []
  },
  {
   "cell_type": "code",
   "execution_count": null,
   "id": "031b5f54",
   "metadata": {},
   "outputs": [],
   "source": []
  }
 ],
 "metadata": {
  "kernelspec": {
   "display_name": "Python 3 (ipykernel)",
   "language": "python",
   "name": "python3"
  },
  "language_info": {
   "codemirror_mode": {
    "name": "ipython",
    "version": 3
   },
   "file_extension": ".py",
   "mimetype": "text/x-python",
   "name": "python",
   "nbconvert_exporter": "python",
   "pygments_lexer": "ipython3",
   "version": "3.9.12"
  }
 },
 "nbformat": 4,
 "nbformat_minor": 5
}
