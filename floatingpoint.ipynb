{
 "cells": [
  {
   "cell_type": "code",
   "execution_count": 3,
   "id": "169e7059",
   "metadata": {},
   "outputs": [
    {
     "name": "stdout",
     "output_type": "stream",
     "text": [
      "4\n",
      "4.000\n",
      "True\n",
      "-1.00\n",
      "True\n",
      "+4.54\n",
      "True\n",
      "somerandupstuff\n",
      "False\n"
     ]
    }
   ],
   "source": [
    "import re\n",
    "class main():\n",
    "    def __init__(self):\n",
    "        self.n=int(input())\n",
    "        for i in range(self.n):\n",
    "            self.s=input()\n",
    "            print(bool(re.match(r'^[-+]?[0-9]*\\.[0-9]+$', self.s)))\n",
    "                \n",
    "if __name__ == '__main__':\n",
    "    obj = main()"
   ]
  },
  {
   "cell_type": "markdown",
   "id": "dceaa520",
   "metadata": {},
   "source": [
    "#### "
   ]
  }
 ],
 "metadata": {
  "kernelspec": {
   "display_name": "Python 3 (ipykernel)",
   "language": "python",
   "name": "python3"
  },
  "language_info": {
   "codemirror_mode": {
    "name": "ipython",
    "version": 3
   },
   "file_extension": ".py",
   "mimetype": "text/x-python",
   "name": "python",
   "nbconvert_exporter": "python",
   "pygments_lexer": "ipython3",
   "version": "3.9.12"
  }
 },
 "nbformat": 4,
 "nbformat_minor": 5
}
